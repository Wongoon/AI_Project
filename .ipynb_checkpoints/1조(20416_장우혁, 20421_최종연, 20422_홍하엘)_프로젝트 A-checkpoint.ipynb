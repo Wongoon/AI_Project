{
 "cells": [
  {
   "cell_type": "markdown",
   "metadata": {
    "id": "AbbH5T4Ruwco"
   },
   "source": [
    "# [ 프로젝트 A ]\n",
    "\n",
    "* 파일명 수정\n",
    "  * 팀번호(학번1_이름1, 학번2_이름2, 학번3_이름3)_프로젝트 A.ipynb\n",
    "\n",
    "* 팀원 소개\n",
    "  * 팀원1 이름 : 장우혁\n",
    "  * 팀원2 이름 : 최종연\n",
    "  * 팀원3 이름 : 홍하엘\n",
    "\n",
    "* 프로젝트 주제\n",
    "  * 주제 (# 필수) : WalMart의 주가 예측\n",
    "  * 데이터 (# 필수) : WalMart의 2013년 ~ 2022년 주가 데이터\n",
    "  * 선정 이유 (# 필수) : \n",
    "\n",
    "* 유의사항\n",
    "  * 최대한 구체적으로 해당 프로젝트를 완성할 것\n",
    "  * 아래 양식은 가이드라인일 뿐, 필요에 따라 수정이 가능함"
   ]
  },
  {
   "cell_type": "markdown",
   "metadata": {
    "id": "HttqCI4gBrIV"
   },
   "source": [
    "## # 공통"
   ]
  },
  {
   "cell_type": "markdown",
   "metadata": {
    "id": "wcmwmW-6067g"
   },
   "source": [
    "### 1. 데이터 수집\n",
    "\n",
    "* 수집한 데이터에 대한 간단한 설명 : WalMart의 2013년 8월 15일 ~ 2022년 8월 15일의 주가, 시가, 거래량에 관한 데이터이다.\n",
    "\n",
    "* 데이터 수집 방법 : Kaggle 사이트에서 WalMart를 검색해 수집했다.\n",
    "  * 데이터 소스 기재 (사이트 및 링크) : https://www.kaggle.com/datasets/haksorus/wallmartstockprice"
   ]
  },
  {
   "cell_type": "code",
   "execution_count": 1,
   "metadata": {},
   "outputs": [],
   "source": [
    "import pandas as pd\n",
    "import numpy as np\n",
    "import seaborn as sns\n",
    "import matplotlib.pyplot as plt"
   ]
  },
  {
   "cell_type": "code",
   "execution_count": null,
   "metadata": {
    "id": "O9IF0-PB2uie"
   },
   "outputs": [],
   "source": [
    "#### 수집한 데이터를 코드 상으로 불러오기\n",
    "df = pd.read_csv('')"
   ]
  },
  {
   "cell_type": "markdown",
   "metadata": {
    "id": "4jaVQ9Ii15VE"
   },
   "source": [
    "### 2. 데이터 전처리\n",
    "\n",
    "* 기본적으로 판다스 및 넘파이 라이브러리 등을 활용하여 코드 상에서 데이터 전처리가 수행되어야 하지만, 이에 한계가 있다면 데이터 파일 자체를 수정하여 전처리를 수행해도 됨 (이 경우에는 아래에 그 이유를 작성해야 함)\n",
    "  * 데이터 전처리를 수행하지 못한 이유 (# 필수) : "
   ]
  },
  {
   "cell_type": "markdown",
   "metadata": {
    "id": "QkyS-_Gg1_Z6"
   },
   "source": [
    "* 데이터 전처리 1 (# 필수)\n",
    "  * 수행해야 하는 전처리 작업 :\n",
    "  * 해당 전처리 작업이 필요한 이유 :"
   ]
  },
  {
   "cell_type": "code",
   "execution_count": null,
   "metadata": {
    "id": "C-TxFZIX3_Z8"
   },
   "outputs": [],
   "source": [
    "#### 데이터 전처리 1 수행하기\n"
   ]
  },
  {
   "cell_type": "markdown",
   "metadata": {
    "id": "j4WEGWm84jMX"
   },
   "source": [
    "* 데이터 전처리 N\n",
    "  * 수행해야 하는 전처리 작업 :\n",
    "  * 해당 전처리 작업이 필요한 이유 :"
   ]
  },
  {
   "cell_type": "code",
   "execution_count": null,
   "metadata": {
    "id": "MJFll2Oo4qk8"
   },
   "outputs": [],
   "source": [
    "#### 데이터 전처리 N 수행하기\n"
   ]
  },
  {
   "cell_type": "markdown",
   "metadata": {
    "id": "RFera0A04pXs"
   },
   "source": [
    "### 3. 데이터 분석\n",
    "\n",
    "* 반드시 2번 이상의 데이터 분석을 진행해야 하며, 해당 데이터 분석을 통해 얻을 수 있는 결과 및 의의를 작성해야 함"
   ]
  },
  {
   "cell_type": "markdown",
   "metadata": {
    "id": "VR4XNlXx5aUY"
   },
   "source": [
    "* 데이터 분석 1 (# 필수)\n",
    "  * 분석 내용 : \n",
    "  * 분석 결과 :"
   ]
  },
  {
   "cell_type": "code",
   "execution_count": null,
   "metadata": {
    "id": "_l_cfaTN5jUT"
   },
   "outputs": [],
   "source": [
    "#### 데이터 분석 1 수행하기\n"
   ]
  },
  {
   "cell_type": "markdown",
   "metadata": {
    "id": "3vVZCX-L5xz0"
   },
   "source": [
    "* 데이터 분석 2 (# 필수)\n",
    "  * 분석 내용 :\n",
    "  * 분석 결과 :"
   ]
  },
  {
   "cell_type": "code",
   "execution_count": null,
   "metadata": {
    "id": "kmQDQvnf6eJ7"
   },
   "outputs": [],
   "source": [
    "#### 데이터 분석 2 수행하기\n"
   ]
  },
  {
   "cell_type": "markdown",
   "metadata": {
    "id": "OZy1VxNZ6RJ1"
   },
   "source": [
    "* 데이터 분석 N\n",
    "  * 분석 내용 :\n",
    "  * 분석 결과 :"
   ]
  },
  {
   "cell_type": "code",
   "execution_count": null,
   "metadata": {
    "id": "oZ4KDq9Y6V2q"
   },
   "outputs": [],
   "source": [
    "#### 데이터 분석 N 수행하기\n"
   ]
  },
  {
   "cell_type": "markdown",
   "metadata": {
    "id": "nRPgqbMb0xIc"
   },
   "source": [
    "## # 머신러닝 알고리즘"
   ]
  },
  {
   "cell_type": "markdown",
   "metadata": {
    "id": "D75ssVlt64l3"
   },
   "source": [
    "### 4. 모델 학습\n",
    "\n",
    "* 반드시 데이터 셋을 훈련 및 테스트 세트로 분할하고, 모델 학습에는 훈련 세트를 사용해야 함\n",
    "\n",
    "* 머신러닝 알고리즘을 통해 모델의 학습을 진행\n",
    "  * 선정한 알고리즘 : \n",
    "  * 해당 알고리즘에 대한 간단한 설명 :\n",
    "\n",
    "* 이 외에, 학습 이전에 추가적인 데이터 전처리가 필요하다면 아래에 작성\n",
    "  * 수행해야 하는 전처리 작업 :\n",
    "  * 해당 전처리 작업이 필요한 이유 :\n",
    "\n"
   ]
  },
  {
   "cell_type": "code",
   "execution_count": null,
   "metadata": {
    "id": "6KqAia-v8DEC"
   },
   "outputs": [],
   "source": [
    "#### 훈련 세트와 테스트 세트 분할하기\n"
   ]
  },
  {
   "cell_type": "code",
   "execution_count": null,
   "metadata": {
    "id": "kTdHq8IG8GSF"
   },
   "outputs": [],
   "source": [
    "#### 추가적인 데이터 전처리 수행하기\n"
   ]
  },
  {
   "cell_type": "code",
   "execution_count": null,
   "metadata": {
    "id": "KZQVIykX8LKx"
   },
   "outputs": [],
   "source": [
    "#### 모델 학습하기\n"
   ]
  },
  {
   "cell_type": "markdown",
   "metadata": {
    "id": "_VhWGqgw8XgL"
   },
   "source": [
    "### 5. 모델 평가\n",
    "\n",
    "* 학습이 완료된 모델에 샘플 데이터 1개를 입력하여 의도한 값을 출력하는지 확인\n",
    "\n",
    "* 테스트 세트를 사용하여 모델의 전체적인 성능을 평가\n",
    "  * 회귀 모델 : 결정 계수\n",
    "  * 분류 모델 : 정확도\n",
    "\n",
    "* 과대 적합을 방지 및 해결하기 위한 부분이 반드시 포함되어야 함 (# 필수)"
   ]
  },
  {
   "cell_type": "code",
   "execution_count": null,
   "metadata": {
    "id": "IejD7_9z9Ype"
   },
   "outputs": [],
   "source": [
    "#### 샘플 데이터를 통해 출력 값 예측하기\n"
   ]
  },
  {
   "cell_type": "code",
   "execution_count": null,
   "metadata": {
    "id": "cbT8jcSc9ehh"
   },
   "outputs": [],
   "source": [
    "#### 모델 평가하기\n"
   ]
  },
  {
   "cell_type": "code",
   "execution_count": null,
   "metadata": {
    "id": "jQfmD5WnDHlj"
   },
   "outputs": [],
   "source": [
    "#### 과대적합 방지 및 해결하기\n"
   ]
  },
  {
   "cell_type": "markdown",
   "metadata": {
    "id": "OUFNLNdR9kV0"
   },
   "source": [
    "## # 딥러닝 알고리즘"
   ]
  },
  {
   "cell_type": "markdown",
   "metadata": {
    "id": "GGW_FAQrCaKf"
   },
   "source": [
    "### 4. 모델 구조 결정\n",
    "\n",
    "* 딥러닝 모델 학습을 위한 인공 신경망을 생성하며, 각 층에는 걸맞는 이름이 부여되어야 함\n",
    "  * 입력층 구조 :\n",
    "  * 은닉층 1 구조 :\n",
    "  * 은닉층 N 구조 :\n",
    "  * 출력층 구조 :\n",
    "\n",
    "* summary( ) 함수를 통해 생성된 인공 신경망의 최종 구조를 출력"
   ]
  },
  {
   "cell_type": "code",
   "execution_count": null,
   "metadata": {
    "id": "ZIFenAoWDtvM"
   },
   "outputs": [],
   "source": [
    "#### 모델 구조 결정하기\n"
   ]
  },
  {
   "cell_type": "code",
   "execution_count": null,
   "metadata": {
    "id": "TIR15V2kDww4"
   },
   "outputs": [],
   "source": [
    "#### 모델 구조 출력하기\n"
   ]
  },
  {
   "cell_type": "markdown",
   "metadata": {
    "id": "GOP4MwxLDy1b"
   },
   "source": [
    "### 5. 모델 학습\n",
    "\n",
    "* 반드시 데이터 셋을 훈련 및 테스트 세트로 분할하고, 모델 학습에는 훈련 세트를 사용해야 함\n",
    "\n",
    "* 생성된 인공 신경망 구조에 걸맞는 컴파일 과정이 포함되어야 함 (# 필수)\n",
    "\n",
    "* 학습된 모델을 저장하는 부분이 반드시 포함되어야 함 (# 필수)\n",
    "\n",
    "* 과대적합 방지를 위한 모델 최적화 조건을 설정하는 부분이 반드시 포함되어야 함 (# 필수)\n",
    "\n",
    "* 이 외에, 학습 이전에 추가적인 데이터 전처리가 필요하다면 아래에 작성\n",
    "  * 수행해야 하는 전처리 작업 :\n",
    "  * 해당 전처리 작업이 필요한 이유 :"
   ]
  },
  {
   "cell_type": "code",
   "execution_count": null,
   "metadata": {
    "id": "u2kXpzt7Evow"
   },
   "outputs": [],
   "source": [
    "#### 훈련 세트와 테스트 세트 분할하기\n"
   ]
  },
  {
   "cell_type": "code",
   "execution_count": null,
   "metadata": {
    "id": "EJH-WL6CE_Jw"
   },
   "outputs": [],
   "source": [
    "#### 추가적인 데이터 전처리 수행하기\n"
   ]
  },
  {
   "cell_type": "code",
   "execution_count": null,
   "metadata": {
    "id": "qTNecIowEz_Z"
   },
   "outputs": [],
   "source": [
    "#### 모델 컴파일하기\n"
   ]
  },
  {
   "cell_type": "code",
   "execution_count": null,
   "metadata": {
    "id": "Y2rs-SUmE120"
   },
   "outputs": [],
   "source": [
    "#### 모델 저장하기\n"
   ]
  },
  {
   "cell_type": "code",
   "execution_count": null,
   "metadata": {
    "id": "UHsW7atpE8RA"
   },
   "outputs": [],
   "source": [
    "#### 모델 최적화 조건 설정하기\n"
   ]
  },
  {
   "cell_type": "code",
   "execution_count": null,
   "metadata": {
    "id": "ozkYq4xIE9hY"
   },
   "outputs": [],
   "source": [
    "#### 모델 학습하기\n"
   ]
  },
  {
   "cell_type": "markdown",
   "metadata": {
    "id": "hlwJN5P1FCLh"
   },
   "source": [
    "### 6. 모델 평가\n",
    "\n",
    "* 반드시 저장된 모델을 불러와서 평가를 진행해야 함 (# 필수)\n",
    "  * 그렇지 않을 경우, 모델 평가 결과가 매번 달라질 수 있음\n",
    "\n",
    "* 학습이 완료된 모델에 샘플 데이터 1개를 입력하여 의도한 값을 출력하는지 확인\n",
    "\n",
    "* 테스트 세트를 사용하여 모델의 전체적인 성능을 확인\n",
    "  * 회귀 모델 : 오차\n",
    "  * 분류 모델 : 정확도"
   ]
  },
  {
   "cell_type": "code",
   "execution_count": null,
   "metadata": {
    "id": "3yPTpby3GHIH"
   },
   "outputs": [],
   "source": [
    "#### 저장된 모델 불러오기\n"
   ]
  },
  {
   "cell_type": "code",
   "execution_count": null,
   "metadata": {
    "id": "tuGKjqYNGItv"
   },
   "outputs": [],
   "source": [
    "#### 샘플 데이터를 통해 출력 값 예측하기\n"
   ]
  },
  {
   "cell_type": "code",
   "execution_count": null,
   "metadata": {
    "id": "MJexk_9sGN5v"
   },
   "outputs": [],
   "source": [
    "#### 모델 평가하기 \n"
   ]
  }
 ],
 "metadata": {
  "colab": {
   "authorship_tag": "ABX9TyPDch11gaR0tdhw1nCEo4R0",
   "collapsed_sections": [
    "AbbH5T4Ruwco",
    "HttqCI4gBrIV",
    "nRPgqbMb0xIc",
    "OUFNLNdR9kV0"
   ],
   "provenance": []
  },
  "kernelspec": {
   "display_name": "Python 3",
   "language": "python",
   "name": "python3"
  },
  "language_info": {
   "codemirror_mode": {
    "name": "ipython",
    "version": 3
   },
   "file_extension": ".py",
   "mimetype": "text/x-python",
   "name": "python",
   "nbconvert_exporter": "python",
   "pygments_lexer": "ipython3",
   "version": "3.8.8"
  }
 },
 "nbformat": 4,
 "nbformat_minor": 1
}

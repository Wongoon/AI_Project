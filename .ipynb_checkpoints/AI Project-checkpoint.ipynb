{
 "cells": [
  {
   "cell_type": "code",
   "execution_count": 108,
   "id": "2cc1797b",
   "metadata": {},
   "outputs": [
    {
     "data": {
      "text/html": [
       "<div>\n",
       "<style scoped>\n",
       "    .dataframe tbody tr th:only-of-type {\n",
       "        vertical-align: middle;\n",
       "    }\n",
       "\n",
       "    .dataframe tbody tr th {\n",
       "        vertical-align: top;\n",
       "    }\n",
       "\n",
       "    .dataframe thead th {\n",
       "        text-align: right;\n",
       "    }\n",
       "</style>\n",
       "<table border=\"1\" class=\"dataframe\">\n",
       "  <thead>\n",
       "    <tr style=\"text-align: right;\">\n",
       "      <th></th>\n",
       "      <th>癤풡ate</th>\n",
       "      <th>Price</th>\n",
       "      <th>Open</th>\n",
       "      <th>High</th>\n",
       "      <th>Low</th>\n",
       "      <th>Vol.</th>\n",
       "      <th>Change %</th>\n",
       "    </tr>\n",
       "  </thead>\n",
       "  <tbody>\n",
       "    <tr>\n",
       "      <th>0</th>\n",
       "      <td>15-Aug-13</td>\n",
       "      <td>74.41</td>\n",
       "      <td>74.46</td>\n",
       "      <td>75.08</td>\n",
       "      <td>74.03</td>\n",
       "      <td>13.22M</td>\n",
       "      <td>-2.60%</td>\n",
       "    </tr>\n",
       "    <tr>\n",
       "      <th>1</th>\n",
       "      <td>16-Aug-13</td>\n",
       "      <td>74.11</td>\n",
       "      <td>74.12</td>\n",
       "      <td>74.50</td>\n",
       "      <td>73.70</td>\n",
       "      <td>7.25M</td>\n",
       "      <td>-0.40%</td>\n",
       "    </tr>\n",
       "    <tr>\n",
       "      <th>2</th>\n",
       "      <td>19-Aug-13</td>\n",
       "      <td>73.58</td>\n",
       "      <td>73.88</td>\n",
       "      <td>73.93</td>\n",
       "      <td>73.21</td>\n",
       "      <td>5.36M</td>\n",
       "      <td>-0.72%</td>\n",
       "    </tr>\n",
       "    <tr>\n",
       "      <th>3</th>\n",
       "      <td>20-Aug-13</td>\n",
       "      <td>73.23</td>\n",
       "      <td>73.55</td>\n",
       "      <td>73.62</td>\n",
       "      <td>73.20</td>\n",
       "      <td>6.66M</td>\n",
       "      <td>-0.48%</td>\n",
       "    </tr>\n",
       "    <tr>\n",
       "      <th>4</th>\n",
       "      <td>21-Aug-13</td>\n",
       "      <td>73.55</td>\n",
       "      <td>73.16</td>\n",
       "      <td>74.13</td>\n",
       "      <td>72.93</td>\n",
       "      <td>8.08M</td>\n",
       "      <td>0.44%</td>\n",
       "    </tr>\n",
       "  </tbody>\n",
       "</table>\n",
       "</div>"
      ],
      "text/plain": [
       "       癤풡ate  Price   Open   High    Low    Vol. Change %\n",
       "0  15-Aug-13  74.41  74.46  75.08  74.03  13.22M   -2.60%\n",
       "1  16-Aug-13  74.11  74.12  74.50  73.70   7.25M   -0.40%\n",
       "2  19-Aug-13  73.58  73.88  73.93  73.21   5.36M   -0.72%\n",
       "3  20-Aug-13  73.23  73.55  73.62  73.20   6.66M   -0.48%\n",
       "4  21-Aug-13  73.55  73.16  74.13  72.93   8.08M    0.44%"
      ]
     },
     "execution_count": 108,
     "metadata": {},
     "output_type": "execute_result"
    }
   ],
   "source": [
    "import pandas as pd\n",
    "import numpy as np\n",
    "import matplotlib.pyplot as plt\n",
    "\n",
    "df = pd.read_csv('WMT Historical Data.csv', encoding = 'cp949')\n",
    "\n",
    "df.head()"
   ]
  },
  {
   "cell_type": "code",
   "execution_count": 40,
   "id": "024a3283",
   "metadata": {},
   "outputs": [
    {
     "data": {
      "text/plain": [
       "(2266,)"
      ]
     },
     "execution_count": 40,
     "metadata": {},
     "output_type": "execute_result"
    }
   ],
   "source": [
    "Price = df['Price']\n",
    "Price.shape"
   ]
  },
  {
   "cell_type": "code",
   "execution_count": 41,
   "id": "696cd236",
   "metadata": {},
   "outputs": [
    {
     "data": {
      "text/plain": [
       "[<matplotlib.lines.Line2D at 0x28f63f61610>]"
      ]
     },
     "execution_count": 41,
     "metadata": {},
     "output_type": "execute_result"
    },
    {
     "data": {
      "image/png": "[encoded data removed]",
      "text/plain": [
       "<Figure size 432x288 with 1 Axes>"
      ]
     },
     "metadata": {
      "needs_background": "light"
     },
     "output_type": "display_data"
    }
   ],
   "source": [
    "x = range(2266)\n",
    "\n",
    "plt.plot(x, Price)"
   ]
  },
  {
   "cell_type": "code",
   "execution_count": 148,
   "id": "defdd62e",
   "metadata": {},
   "outputs": [],
   "source": [
    "capitalization = []\n",
    "volume = df['Vol.']\n",
    "for i in range(2266):\n",
    "    vol = volume[i].split('M')\n",
    "    capitalization.append(Price[i] * float(vol[0]) * 1000000)"
   ]
  },
  {
   "cell_type": "code",
   "execution_count": 43,
   "id": "681741c7",
   "metadata": {},
   "outputs": [
    {
     "data": {
      "image/png": "[encoded data removed]",
      "text/plain": [
       "<Figure size 432x288 with 1 Axes>"
      ]
     },
     "metadata": {
      "needs_background": "light"
     },
     "output_type": "display_data"
    }
   ],
   "source": [
    "Open = df['Open']\n",
    "\n",
    "plt.plot(x, Price, label='Price')\n",
    "plt.plot(x, Open, label='Open')\n",
    "plt.legend()\n",
    "plt.show()"
   ]
  },
  {
   "cell_type": "code",
   "execution_count": 44,
   "id": "172157a1",
   "metadata": {},
   "outputs": [
    {
     "data": {
      "image/png": "[encoded data removed]",
      "text/plain": [
       "<Figure size 432x288 with 1 Axes>"
      ]
     },
     "metadata": {
      "needs_background": "light"
     },
     "output_type": "display_data"
    }
   ],
   "source": [
    "plt.plot(x, capitalization, label='Capitalization')\n",
    "plt.show()"
   ]
  },
  {
   "cell_type": "code",
   "execution_count": 34,
   "id": "b2dff191",
   "metadata": {},
   "outputs": [
    {
     "data": {
      "text/plain": [
       "癤풡ate       2266\n",
       "Price       2266\n",
       "Open        2266\n",
       "High        2266\n",
       "Low         2266\n",
       "Vol.        2266\n",
       "Change %    2266\n",
       "dtype: int64"
      ]
     },
     "execution_count": 34,
     "metadata": {},
     "output_type": "execute_result"
    }
   ],
   "source": [
    "df.count()"
   ]
  },
  {
   "cell_type": "code",
   "execution_count": 103,
   "id": "a0369552",
   "metadata": {},
   "outputs": [
    {
     "data": {
      "text/plain": [
       "[355.839,\n",
       " 769.483,\n",
       " 1144.3773999999999,\n",
       " 1652.4093999999998,\n",
       " 2038.9593999999997,\n",
       " 2533.3473999999997,\n",
       " 2959.2483999999995,\n",
       " 3576.8275999999996,\n",
       " 4218.7735999999995,\n",
       " 4838.9928,\n",
       " 5695.5912,\n",
       " 6346.3548,\n",
       " 6754.2694,\n",
       " 7209.2022,\n",
       " 8318.1702,\n",
       " 9039.658000000001,\n",
       " 9649.742100000001,\n",
       " 10180.306100000002,\n",
       " 11060.795600000001,\n",
       " 11658.164100000002,\n",
       " 12111.178100000001,\n",
       " 12743.807900000002,\n",
       " 13502.650400000002,\n",
       " 14909.318300000003,\n",
       " 15523.381100000002,\n",
       " 16257.270300000002,\n",
       " 17611.908300000003,\n",
       " 18526.061400000002,\n",
       " 19382.756400000002,\n",
       " 21639.472200000004,\n",
       " 22313.687200000004,\n",
       " 23044.302800000005]"
      ]
     },
     "execution_count": 103,
     "metadata": {},
     "output_type": "execute_result"
    }
   ],
   "source": [
    "list = []\n",
    "num = 0\n",
    "for i in range(2266):\n",
    "    if(i % 70== 68):\n",
    "        num += capitalization[i]\n",
    "    elif(i % 70 == 69):\n",
    "        \n",
    "        list.append(num)\n",
    "list    "
   ]
  },
  {
   "cell_type": "code",
   "execution_count": 104,
   "id": "6ff4dffe",
   "metadata": {},
   "outputs": [
    {
     "data": {
      "image/png": "[encoded data removed]",
      "text/plain": [
       "<Figure size 864x576 with 1 Axes>"
      ]
     },
     "metadata": {
      "needs_background": "light"
     },
     "output_type": "display_data"
    }
   ],
   "source": [
    "plt.figure(figsize = (12, 8))\n",
    "plt.plot(range(len(list)), list)\n",
    "plt.show()\n",
    "\n"
   ]
  },
  {
   "cell_type": "code",
   "execution_count": 57,
   "id": "4ef9214d",
   "metadata": {},
   "outputs": [
    {
     "data": {
      "image/png": "[encoded data removed]",
      "text/plain": [
       "<Figure size 432x288 with 1 Axes>"
      ]
     },
     "metadata": {
      "needs_background": "light"
     },
     "output_type": "display_data"
    }
   ],
   "source": [
    "plt.plot(x, Price)\n",
    "plt.show()"
   ]
  },
  {
   "cell_type": "code",
   "execution_count": 138,
   "id": "cd78c250",
   "metadata": {},
   "outputs": [
    {
     "name": "stderr",
     "output_type": "stream",
     "text": [
      "<ipython-input-138-ce594d0ccbae>:2: SettingWithCopyWarning: \n",
      "A value is trying to be set on a copy of a slice from a DataFrame\n",
      "\n",
      "See the caveats in the documentation: https://pandas.pydata.org/pandas-docs/stable/user_guide/indexing.html#returning-a-view-versus-a-copy\n",
      "  df['Volume'][i] = float(df['Vol.'].str.split('M')[i][0])\n"
     ]
    }
   ],
   "source": [
    "for i in range(2266):\n",
    "    df['Volume'][i] = float(df['Vol.'].str.split('M')[i][0])"
   ]
  },
  {
   "cell_type": "code",
   "execution_count": 139,
   "id": "7ba0b115",
   "metadata": {},
   "outputs": [
    {
     "name": "stdout",
     "output_type": "stream",
     "text": [
      "<class 'pandas.core.frame.DataFrame'>\n",
      "RangeIndex: 2266 entries, 0 to 2265\n",
      "Data columns (total 8 columns):\n",
      " #   Column    Non-Null Count  Dtype  \n",
      "---  ------    --------------  -----  \n",
      " 0   癤풡ate     2266 non-null   object \n",
      " 1   Price     2266 non-null   float64\n",
      " 2   Open      2266 non-null   float64\n",
      " 3   High      2266 non-null   float64\n",
      " 4   Low       2266 non-null   float64\n",
      " 5   Vol.      2266 non-null   object \n",
      " 6   Change %  2266 non-null   object \n",
      " 7   Volume    2266 non-null   object \n",
      "dtypes: float64(4), object(4)\n",
      "memory usage: 141.8+ KB\n"
     ]
    }
   ],
   "source": [
    "df.info()"
   ]
  },
  {
   "cell_type": "code",
   "execution_count": 140,
   "id": "5a5850c0",
   "metadata": {},
   "outputs": [
    {
     "data": {
      "text/html": [
       "<div>\n",
       "<style scoped>\n",
       "    .dataframe tbody tr th:only-of-type {\n",
       "        vertical-align: middle;\n",
       "    }\n",
       "\n",
       "    .dataframe tbody tr th {\n",
       "        vertical-align: top;\n",
       "    }\n",
       "\n",
       "    .dataframe thead th {\n",
       "        text-align: right;\n",
       "    }\n",
       "</style>\n",
       "<table border=\"1\" class=\"dataframe\">\n",
       "  <thead>\n",
       "    <tr style=\"text-align: right;\">\n",
       "      <th></th>\n",
       "      <th>癤풡ate</th>\n",
       "      <th>Price</th>\n",
       "      <th>Open</th>\n",
       "      <th>High</th>\n",
       "      <th>Low</th>\n",
       "      <th>Vol.</th>\n",
       "      <th>Change %</th>\n",
       "      <th>Volume</th>\n",
       "    </tr>\n",
       "  </thead>\n",
       "  <tbody>\n",
       "    <tr>\n",
       "      <th>0</th>\n",
       "      <td>15-Aug-13</td>\n",
       "      <td>74.41</td>\n",
       "      <td>74.46</td>\n",
       "      <td>75.08</td>\n",
       "      <td>74.03</td>\n",
       "      <td>13.22M</td>\n",
       "      <td>-2.60%</td>\n",
       "      <td>13.22</td>\n",
       "    </tr>\n",
       "    <tr>\n",
       "      <th>1</th>\n",
       "      <td>16-Aug-13</td>\n",
       "      <td>74.11</td>\n",
       "      <td>74.12</td>\n",
       "      <td>74.50</td>\n",
       "      <td>73.70</td>\n",
       "      <td>7.25M</td>\n",
       "      <td>-0.40%</td>\n",
       "      <td>7.25</td>\n",
       "    </tr>\n",
       "    <tr>\n",
       "      <th>2</th>\n",
       "      <td>19-Aug-13</td>\n",
       "      <td>73.58</td>\n",
       "      <td>73.88</td>\n",
       "      <td>73.93</td>\n",
       "      <td>73.21</td>\n",
       "      <td>5.36M</td>\n",
       "      <td>-0.72%</td>\n",
       "      <td>5.36</td>\n",
       "    </tr>\n",
       "    <tr>\n",
       "      <th>3</th>\n",
       "      <td>20-Aug-13</td>\n",
       "      <td>73.23</td>\n",
       "      <td>73.55</td>\n",
       "      <td>73.62</td>\n",
       "      <td>73.20</td>\n",
       "      <td>6.66M</td>\n",
       "      <td>-0.48%</td>\n",
       "      <td>6.66</td>\n",
       "    </tr>\n",
       "    <tr>\n",
       "      <th>4</th>\n",
       "      <td>21-Aug-13</td>\n",
       "      <td>73.55</td>\n",
       "      <td>73.16</td>\n",
       "      <td>74.13</td>\n",
       "      <td>72.93</td>\n",
       "      <td>8.08M</td>\n",
       "      <td>0.44%</td>\n",
       "      <td>8.08</td>\n",
       "    </tr>\n",
       "    <tr>\n",
       "      <th>...</th>\n",
       "      <td>...</td>\n",
       "      <td>...</td>\n",
       "      <td>...</td>\n",
       "      <td>...</td>\n",
       "      <td>...</td>\n",
       "      <td>...</td>\n",
       "      <td>...</td>\n",
       "      <td>...</td>\n",
       "    </tr>\n",
       "    <tr>\n",
       "      <th>2261</th>\n",
       "      <td>09-Aug-22</td>\n",
       "      <td>128.87</td>\n",
       "      <td>127.89</td>\n",
       "      <td>128.97</td>\n",
       "      <td>127.21</td>\n",
       "      <td>6.44M</td>\n",
       "      <td>0.99%</td>\n",
       "      <td>6.44</td>\n",
       "    </tr>\n",
       "    <tr>\n",
       "      <th>2262</th>\n",
       "      <td>10-Aug-22</td>\n",
       "      <td>129.14</td>\n",
       "      <td>130.00</td>\n",
       "      <td>130.15</td>\n",
       "      <td>128.39</td>\n",
       "      <td>8.36M</td>\n",
       "      <td>0.21%</td>\n",
       "      <td>8.36</td>\n",
       "    </tr>\n",
       "    <tr>\n",
       "      <th>2263</th>\n",
       "      <td>11-Aug-22</td>\n",
       "      <td>129.82</td>\n",
       "      <td>129.70</td>\n",
       "      <td>130.37</td>\n",
       "      <td>128.60</td>\n",
       "      <td>7.91M</td>\n",
       "      <td>0.53%</td>\n",
       "      <td>7.91</td>\n",
       "    </tr>\n",
       "    <tr>\n",
       "      <th>2264</th>\n",
       "      <td>12-Aug-22</td>\n",
       "      <td>132.22</td>\n",
       "      <td>130.20</td>\n",
       "      <td>132.82</td>\n",
       "      <td>129.85</td>\n",
       "      <td>8.73M</td>\n",
       "      <td>1.85%</td>\n",
       "      <td>8.73</td>\n",
       "    </tr>\n",
       "    <tr>\n",
       "      <th>2265</th>\n",
       "      <td>15-Aug-22</td>\n",
       "      <td>132.60</td>\n",
       "      <td>131.83</td>\n",
       "      <td>133.57</td>\n",
       "      <td>131.58</td>\n",
       "      <td>8.64M</td>\n",
       "      <td>0.29%</td>\n",
       "      <td>8.64</td>\n",
       "    </tr>\n",
       "  </tbody>\n",
       "</table>\n",
       "<p>2266 rows × 8 columns</p>\n",
       "</div>"
      ],
      "text/plain": [
       "          癤풡ate   Price    Open    High     Low    Vol. Change % Volume\n",
       "0     15-Aug-13   74.41   74.46   75.08   74.03  13.22M   -2.60%  13.22\n",
       "1     16-Aug-13   74.11   74.12   74.50   73.70   7.25M   -0.40%   7.25\n",
       "2     19-Aug-13   73.58   73.88   73.93   73.21   5.36M   -0.72%   5.36\n",
       "3     20-Aug-13   73.23   73.55   73.62   73.20   6.66M   -0.48%   6.66\n",
       "4     21-Aug-13   73.55   73.16   74.13   72.93   8.08M    0.44%   8.08\n",
       "...         ...     ...     ...     ...     ...     ...      ...    ...\n",
       "2261  09-Aug-22  128.87  127.89  128.97  127.21   6.44M    0.99%   6.44\n",
       "2262  10-Aug-22  129.14  130.00  130.15  128.39   8.36M    0.21%   8.36\n",
       "2263  11-Aug-22  129.82  129.70  130.37  128.60   7.91M    0.53%   7.91\n",
       "2264  12-Aug-22  132.22  130.20  132.82  129.85   8.73M    1.85%   8.73\n",
       "2265  15-Aug-22  132.60  131.83  133.57  131.58   8.64M    0.29%   8.64\n",
       "\n",
       "[2266 rows x 8 columns]"
      ]
     },
     "execution_count": 140,
     "metadata": {},
     "output_type": "execute_result"
    }
   ],
   "source": [
    "df"
   ]
  },
  {
   "cell_type": "code",
   "execution_count": 143,
   "id": "78d6c6a6",
   "metadata": {},
   "outputs": [],
   "source": [
    "df['Capitalization'] = df['Price'] * df['Volume'] * 1000000"
   ]
  },
  {
   "cell_type": "code",
   "execution_count": 144,
   "id": "23ad6c2b",
   "metadata": {},
   "outputs": [
    {
     "data": {
      "text/html": [
       "<div>\n",
       "<style scoped>\n",
       "    .dataframe tbody tr th:only-of-type {\n",
       "        vertical-align: middle;\n",
       "    }\n",
       "\n",
       "    .dataframe tbody tr th {\n",
       "        vertical-align: top;\n",
       "    }\n",
       "\n",
       "    .dataframe thead th {\n",
       "        text-align: right;\n",
       "    }\n",
       "</style>\n",
       "<table border=\"1\" class=\"dataframe\">\n",
       "  <thead>\n",
       "    <tr style=\"text-align: right;\">\n",
       "      <th></th>\n",
       "      <th>癤풡ate</th>\n",
       "      <th>Price</th>\n",
       "      <th>Open</th>\n",
       "      <th>High</th>\n",
       "      <th>Low</th>\n",
       "      <th>Vol.</th>\n",
       "      <th>Change %</th>\n",
       "      <th>Volume</th>\n",
       "      <th>Capitalization</th>\n",
       "    </tr>\n",
       "  </thead>\n",
       "  <tbody>\n",
       "    <tr>\n",
       "      <th>0</th>\n",
       "      <td>15-Aug-13</td>\n",
       "      <td>74.41</td>\n",
       "      <td>74.46</td>\n",
       "      <td>75.08</td>\n",
       "      <td>74.03</td>\n",
       "      <td>13.22M</td>\n",
       "      <td>-2.60%</td>\n",
       "      <td>13.22</td>\n",
       "      <td>983700200.0</td>\n",
       "    </tr>\n",
       "    <tr>\n",
       "      <th>1</th>\n",
       "      <td>16-Aug-13</td>\n",
       "      <td>74.11</td>\n",
       "      <td>74.12</td>\n",
       "      <td>74.50</td>\n",
       "      <td>73.70</td>\n",
       "      <td>7.25M</td>\n",
       "      <td>-0.40%</td>\n",
       "      <td>7.25</td>\n",
       "      <td>537297500.0</td>\n",
       "    </tr>\n",
       "    <tr>\n",
       "      <th>2</th>\n",
       "      <td>19-Aug-13</td>\n",
       "      <td>73.58</td>\n",
       "      <td>73.88</td>\n",
       "      <td>73.93</td>\n",
       "      <td>73.21</td>\n",
       "      <td>5.36M</td>\n",
       "      <td>-0.72%</td>\n",
       "      <td>5.36</td>\n",
       "      <td>394388800.0</td>\n",
       "    </tr>\n",
       "    <tr>\n",
       "      <th>3</th>\n",
       "      <td>20-Aug-13</td>\n",
       "      <td>73.23</td>\n",
       "      <td>73.55</td>\n",
       "      <td>73.62</td>\n",
       "      <td>73.20</td>\n",
       "      <td>6.66M</td>\n",
       "      <td>-0.48%</td>\n",
       "      <td>6.66</td>\n",
       "      <td>487711800.0</td>\n",
       "    </tr>\n",
       "    <tr>\n",
       "      <th>4</th>\n",
       "      <td>21-Aug-13</td>\n",
       "      <td>73.55</td>\n",
       "      <td>73.16</td>\n",
       "      <td>74.13</td>\n",
       "      <td>72.93</td>\n",
       "      <td>8.08M</td>\n",
       "      <td>0.44%</td>\n",
       "      <td>8.08</td>\n",
       "      <td>594284000.0</td>\n",
       "    </tr>\n",
       "    <tr>\n",
       "      <th>...</th>\n",
       "      <td>...</td>\n",
       "      <td>...</td>\n",
       "      <td>...</td>\n",
       "      <td>...</td>\n",
       "      <td>...</td>\n",
       "      <td>...</td>\n",
       "      <td>...</td>\n",
       "      <td>...</td>\n",
       "      <td>...</td>\n",
       "    </tr>\n",
       "    <tr>\n",
       "      <th>2261</th>\n",
       "      <td>09-Aug-22</td>\n",
       "      <td>128.87</td>\n",
       "      <td>127.89</td>\n",
       "      <td>128.97</td>\n",
       "      <td>127.21</td>\n",
       "      <td>6.44M</td>\n",
       "      <td>0.99%</td>\n",
       "      <td>6.44</td>\n",
       "      <td>829922800.0</td>\n",
       "    </tr>\n",
       "    <tr>\n",
       "      <th>2262</th>\n",
       "      <td>10-Aug-22</td>\n",
       "      <td>129.14</td>\n",
       "      <td>130.00</td>\n",
       "      <td>130.15</td>\n",
       "      <td>128.39</td>\n",
       "      <td>8.36M</td>\n",
       "      <td>0.21%</td>\n",
       "      <td>8.36</td>\n",
       "      <td>1079610400.0</td>\n",
       "    </tr>\n",
       "    <tr>\n",
       "      <th>2263</th>\n",
       "      <td>11-Aug-22</td>\n",
       "      <td>129.82</td>\n",
       "      <td>129.70</td>\n",
       "      <td>130.37</td>\n",
       "      <td>128.60</td>\n",
       "      <td>7.91M</td>\n",
       "      <td>0.53%</td>\n",
       "      <td>7.91</td>\n",
       "      <td>1026876200.0</td>\n",
       "    </tr>\n",
       "    <tr>\n",
       "      <th>2264</th>\n",
       "      <td>12-Aug-22</td>\n",
       "      <td>132.22</td>\n",
       "      <td>130.20</td>\n",
       "      <td>132.82</td>\n",
       "      <td>129.85</td>\n",
       "      <td>8.73M</td>\n",
       "      <td>1.85%</td>\n",
       "      <td>8.73</td>\n",
       "      <td>1154280600.0</td>\n",
       "    </tr>\n",
       "    <tr>\n",
       "      <th>2265</th>\n",
       "      <td>15-Aug-22</td>\n",
       "      <td>132.60</td>\n",
       "      <td>131.83</td>\n",
       "      <td>133.57</td>\n",
       "      <td>131.58</td>\n",
       "      <td>8.64M</td>\n",
       "      <td>0.29%</td>\n",
       "      <td>8.64</td>\n",
       "      <td>1145664000.0</td>\n",
       "    </tr>\n",
       "  </tbody>\n",
       "</table>\n",
       "<p>2266 rows × 9 columns</p>\n",
       "</div>"
      ],
      "text/plain": [
       "          癤풡ate   Price    Open    High     Low    Vol. Change % Volume  \\\n",
       "0     15-Aug-13   74.41   74.46   75.08   74.03  13.22M   -2.60%  13.22   \n",
       "1     16-Aug-13   74.11   74.12   74.50   73.70   7.25M   -0.40%   7.25   \n",
       "2     19-Aug-13   73.58   73.88   73.93   73.21   5.36M   -0.72%   5.36   \n",
       "3     20-Aug-13   73.23   73.55   73.62   73.20   6.66M   -0.48%   6.66   \n",
       "4     21-Aug-13   73.55   73.16   74.13   72.93   8.08M    0.44%   8.08   \n",
       "...         ...     ...     ...     ...     ...     ...      ...    ...   \n",
       "2261  09-Aug-22  128.87  127.89  128.97  127.21   6.44M    0.99%   6.44   \n",
       "2262  10-Aug-22  129.14  130.00  130.15  128.39   8.36M    0.21%   8.36   \n",
       "2263  11-Aug-22  129.82  129.70  130.37  128.60   7.91M    0.53%   7.91   \n",
       "2264  12-Aug-22  132.22  130.20  132.82  129.85   8.73M    1.85%   8.73   \n",
       "2265  15-Aug-22  132.60  131.83  133.57  131.58   8.64M    0.29%   8.64   \n",
       "\n",
       "     Capitalization  \n",
       "0       983700200.0  \n",
       "1       537297500.0  \n",
       "2       394388800.0  \n",
       "3       487711800.0  \n",
       "4       594284000.0  \n",
       "...             ...  \n",
       "2261    829922800.0  \n",
       "2262   1079610400.0  \n",
       "2263   1026876200.0  \n",
       "2264   1154280600.0  \n",
       "2265   1145664000.0  \n",
       "\n",
       "[2266 rows x 9 columns]"
      ]
     },
     "execution_count": 144,
     "metadata": {},
     "output_type": "execute_result"
    }
   ],
   "source": [
    "df"
   ]
  },
  {
   "cell_type": "code",
   "execution_count": 149,
   "id": "b4c6d266",
   "metadata": {},
   "outputs": [
    {
     "data": {
      "image/png": "[encoded data removed]",
      "text/plain": [
       "<Figure size 432x288 with 1 Axes>"
      ]
     },
     "metadata": {
      "needs_background": "light"
     },
     "output_type": "display_data"
    }
   ],
   "source": [
    "plt.plot(x, df['Capitalization'], label='Capitalization')\n",
    "plt.plot(x, capitalization, label='capitalization')\n",
    "plt.legend()\n",
    "plt.show()"
   ]
  },
  {
   "cell_type": "code",
   "execution_count": null,
   "id": "739893c9",
   "metadata": {},
   "outputs": [],
   "source": []
  }
 ],
 "metadata": {
  "kernelspec": {
   "display_name": "Python 3",
   "language": "python",
   "name": "python3"
  },
  "language_info": {
   "codemirror_mode": {
    "name": "ipython",
    "version": 3
   },
   "file_extension": ".py",
   "mimetype": "text/x-python",
   "name": "python",
   "nbconvert_exporter": "python",
   "pygments_lexer": "ipython3",
   "version": "3.8.8"
  }
 },
 "nbformat": 4,
 "nbformat_minor": 5
}

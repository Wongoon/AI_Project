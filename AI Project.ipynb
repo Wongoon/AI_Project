{
 "cells": [
  {
   "cell_type": "code",
   "execution_count": 77,
   "id": "2cc1797b",
   "metadata": {},
   "outputs": [
    {
     "data": {
      "text/html": [
       "<div>\n",
       "<style scoped>\n",
       "    .dataframe tbody tr th:only-of-type {\n",
       "        vertical-align: middle;\n",
       "    }\n",
       "\n",
       "    .dataframe tbody tr th {\n",
       "        vertical-align: top;\n",
       "    }\n",
       "\n",
       "    .dataframe thead th {\n",
       "        text-align: right;\n",
       "    }\n",
       "</style>\n",
       "<table border=\"1\" class=\"dataframe\">\n",
       "  <thead>\n",
       "    <tr style=\"text-align: right;\">\n",
       "      <th></th>\n",
       "      <th>Date</th>\n",
       "      <th>Price</th>\n",
       "      <th>Open</th>\n",
       "      <th>High</th>\n",
       "      <th>Low</th>\n",
       "      <th>Vol.(M)</th>\n",
       "      <th>Change %</th>\n",
       "    </tr>\n",
       "  </thead>\n",
       "  <tbody>\n",
       "    <tr>\n",
       "      <th>0</th>\n",
       "      <td>15-Aug-13</td>\n",
       "      <td>74.41</td>\n",
       "      <td>74.46</td>\n",
       "      <td>75.08</td>\n",
       "      <td>74.03</td>\n",
       "      <td>13.22</td>\n",
       "      <td>-2.60%</td>\n",
       "    </tr>\n",
       "    <tr>\n",
       "      <th>1</th>\n",
       "      <td>16-Aug-13</td>\n",
       "      <td>74.11</td>\n",
       "      <td>74.12</td>\n",
       "      <td>74.50</td>\n",
       "      <td>73.70</td>\n",
       "      <td>7.25</td>\n",
       "      <td>-0.40%</td>\n",
       "    </tr>\n",
       "    <tr>\n",
       "      <th>2</th>\n",
       "      <td>19-Aug-13</td>\n",
       "      <td>73.58</td>\n",
       "      <td>73.88</td>\n",
       "      <td>73.93</td>\n",
       "      <td>73.21</td>\n",
       "      <td>5.36</td>\n",
       "      <td>-0.72%</td>\n",
       "    </tr>\n",
       "    <tr>\n",
       "      <th>3</th>\n",
       "      <td>20-Aug-13</td>\n",
       "      <td>73.23</td>\n",
       "      <td>73.55</td>\n",
       "      <td>73.62</td>\n",
       "      <td>73.20</td>\n",
       "      <td>6.66</td>\n",
       "      <td>-0.48%</td>\n",
       "    </tr>\n",
       "    <tr>\n",
       "      <th>4</th>\n",
       "      <td>21-Aug-13</td>\n",
       "      <td>73.55</td>\n",
       "      <td>73.16</td>\n",
       "      <td>74.13</td>\n",
       "      <td>72.93</td>\n",
       "      <td>8.08</td>\n",
       "      <td>0.44%</td>\n",
       "    </tr>\n",
       "  </tbody>\n",
       "</table>\n",
       "</div>"
      ],
      "text/plain": [
       "        Date  Price   Open   High    Low  Vol.(M) Change %\n",
       "0  15-Aug-13  74.41  74.46  75.08  74.03    13.22   -2.60%\n",
       "1  16-Aug-13  74.11  74.12  74.50  73.70     7.25   -0.40%\n",
       "2  19-Aug-13  73.58  73.88  73.93  73.21     5.36   -0.72%\n",
       "3  20-Aug-13  73.23  73.55  73.62  73.20     6.66   -0.48%\n",
       "4  21-Aug-13  73.55  73.16  74.13  72.93     8.08    0.44%"
      ]
     },
     "execution_count": 77,
     "metadata": {},
     "output_type": "execute_result"
    }
   ],
   "source": [
    "import pandas as pd\n",
    "import numpy as np\n",
    "import matplotlib.pyplot as plt\n",
    "\n",
    "df = pd.read_csv('WMT Historical Data.csv', encoding='utf-8')\n",
    "\n",
    "df.head()"
   ]
  },
  {
   "cell_type": "code",
   "execution_count": 31,
   "id": "024a3283",
   "metadata": {},
   "outputs": [
    {
     "data": {
      "text/plain": [
       "(2266,)"
      ]
     },
     "execution_count": 31,
     "metadata": {},
     "output_type": "execute_result"
    }
   ],
   "source": [
    "Price = df['Price']\n",
    "Price.shape"
   ]
  },
  {
   "cell_type": "code",
   "execution_count": 32,
   "id": "696cd236",
   "metadata": {},
   "outputs": [
    {
     "data": {
      "text/plain": [
       "[<matplotlib.lines.Line2D at 0x1d4c8b81310>]"
      ]
     },
     "execution_count": 32,
     "metadata": {},
     "output_type": "execute_result"
    },
    {
     "data": {
      "image/png": "[encoded data removed]",
      "text/plain": [
       "<Figure size 432x288 with 1 Axes>"
      ]
     },
     "metadata": {
      "needs_background": "light"
     },
     "output_type": "display_data"
    }
   ],
   "source": [
    "x = range(2266)\n",
    "\n",
    "plt.plot(x, Price)"
   ]
  },
  {
   "cell_type": "code",
   "execution_count": 61,
   "id": "defdd62e",
   "metadata": {},
   "outputs": [],
   "source": [
    "capitalization = []\n",
    "volume = df['Vol.']\n",
    "for i in range(2266):\n",
    "    capitalization.append(Price[i] * float(vol[0]) * 1000000)"
   ]
  },
  {
   "cell_type": "code",
   "execution_count": 36,
   "id": "681741c7",
   "metadata": {},
   "outputs": [
    {
     "data": {
      "image/png": "[encoded data removed]",
      "text/plain": [
       "<Figure size 432x288 with 1 Axes>"
      ]
     },
     "metadata": {
      "needs_background": "light"
     },
     "output_type": "display_data"
    }
   ],
   "source": [
    "Open = df['Open']\n",
    "\n",
    "plt.plot(x, Price, label='Price')\n",
    "plt.plot(x, Open, label='Open')\n",
    "plt.legend()\n",
    "plt.show()"
   ]
  },
  {
   "cell_type": "code",
   "execution_count": 37,
   "id": "172157a1",
   "metadata": {},
   "outputs": [
    {
     "data": {
      "image/png": "[encoded data removed]",
      "text/plain": [
       "<Figure size 432x288 with 1 Axes>"
      ]
     },
     "metadata": {
      "needs_background": "light"
     },
     "output_type": "display_data"
    }
   ],
   "source": [
    "plt.plot(x, capitalization, label='Capitalization')\n",
    "plt.show()"
   ]
  },
  {
   "cell_type": "code",
   "execution_count": 38,
   "id": "b2dff191",
   "metadata": {},
   "outputs": [
    {
     "data": {
      "text/plain": [
       "Date        2266\n",
       "Price       2266\n",
       "Open        2266\n",
       "High        2266\n",
       "Low         2266\n",
       "Vol.        2266\n",
       "Change %    2266\n",
       "dtype: int64"
      ]
     },
     "execution_count": 38,
     "metadata": {},
     "output_type": "execute_result"
    }
   ],
   "source": [
    "df.count()"
   ]
  },
  {
   "cell_type": "code",
   "execution_count": 75,
   "id": "a0369552",
   "metadata": {},
   "outputs": [
    {
     "data": {
      "text/plain": [
       "[681696000.0000001,\n",
       " 1327968000.0,\n",
       " 1978387200.0,\n",
       " 2631571200.0,\n",
       " 3373747200.0,\n",
       " 4062700800.0,\n",
       " 4681152000.0,\n",
       " 5178902400.0,\n",
       " 5750697600.0,\n",
       " 6357571200.0,\n",
       " 6986908800.0,\n",
       " 7606137600.0,\n",
       " 8207568000.0,\n",
       " 8858332800.0,\n",
       " 9602236800.0,\n",
       " 10516262400.0,\n",
       " 11272521600.0,\n",
       " 12057465600.0,\n",
       " 12871094400.0,\n",
       " 13713062400.0,\n",
       " 14656204800.0,\n",
       " 15679785600.0,\n",
       " 16696281600.0,\n",
       " 17839612800.0,\n",
       " 18973267200.0,\n",
       " 20206886400.0,\n",
       " 21465388800.0,\n",
       " 22693737600.0,\n",
       " 23983257600.0,\n",
       " 25235539200.0,\n",
       " 26474947200.0,\n",
       " 27557712000.0]"
      ]
     },
     "execution_count": 75,
     "metadata": {},
     "output_type": "execute_result"
    }
   ],
   "source": [
    "list = []\n",
    "\n",
    "\n",
    "for i in range(2266):\n",
    "    "
   ]
  },
  {
   "cell_type": "code",
   "execution_count": 76,
   "id": "6ff4dffe",
   "metadata": {},
   "outputs": [
    {
     "data": {
      "image/png": "[encoded data removed]",
      "text/plain": [
       "<Figure size 864x576 with 1 Axes>"
      ]
     },
     "metadata": {
      "needs_background": "light"
     },
     "output_type": "display_data"
    }
   ],
   "source": [
    "plt.figure(figsize = (12, 8))\n",
    "plt.plot(range(len(list)), list)\n",
    "plt.show()\n",
    "\n"
   ]
  },
  {
   "cell_type": "code",
   "execution_count": 42,
   "id": "4ef9214d",
   "metadata": {},
   "outputs": [
    {
     "data": {
      "image/png": "[encoded data removed]",
      "text/plain": [
       "<Figure size 432x288 with 1 Axes>"
      ]
     },
     "metadata": {
      "needs_background": "light"
     },
     "output_type": "display_data"
    }
   ],
   "source": [
    "plt.plot(x, Price)\n",
    "plt.show()"
   ]
  },
  {
   "cell_type": "code",
   "execution_count": null,
   "id": "cd78c250",
   "metadata": {},
   "outputs": [],
   "source": []
  },
  {
   "cell_type": "code",
   "execution_count": 43,
   "id": "7ba0b115",
   "metadata": {},
   "outputs": [
    {
     "data": {
      "text/html": [
       "<div>\n",
       "<style scoped>\n",
       "    .dataframe tbody tr th:only-of-type {\n",
       "        vertical-align: middle;\n",
       "    }\n",
       "\n",
       "    .dataframe tbody tr th {\n",
       "        vertical-align: top;\n",
       "    }\n",
       "\n",
       "    .dataframe thead th {\n",
       "        text-align: right;\n",
       "    }\n",
       "</style>\n",
       "<table border=\"1\" class=\"dataframe\">\n",
       "  <thead>\n",
       "    <tr style=\"text-align: right;\">\n",
       "      <th></th>\n",
       "      <th>Date</th>\n",
       "      <th>Price</th>\n",
       "      <th>Open</th>\n",
       "      <th>High</th>\n",
       "      <th>Low</th>\n",
       "      <th>Vol.</th>\n",
       "      <th>Change %</th>\n",
       "    </tr>\n",
       "  </thead>\n",
       "  <tbody>\n",
       "    <tr>\n",
       "      <th>0</th>\n",
       "      <td>15-Aug-13</td>\n",
       "      <td>74.41</td>\n",
       "      <td>74.46</td>\n",
       "      <td>75.08</td>\n",
       "      <td>74.03</td>\n",
       "      <td>13.22</td>\n",
       "      <td>-2.60%</td>\n",
       "    </tr>\n",
       "    <tr>\n",
       "      <th>1</th>\n",
       "      <td>16-Aug-13</td>\n",
       "      <td>74.11</td>\n",
       "      <td>74.12</td>\n",
       "      <td>74.50</td>\n",
       "      <td>73.70</td>\n",
       "      <td>7.25</td>\n",
       "      <td>-0.40%</td>\n",
       "    </tr>\n",
       "    <tr>\n",
       "      <th>2</th>\n",
       "      <td>19-Aug-13</td>\n",
       "      <td>73.58</td>\n",
       "      <td>73.88</td>\n",
       "      <td>73.93</td>\n",
       "      <td>73.21</td>\n",
       "      <td>5.36</td>\n",
       "      <td>-0.72%</td>\n",
       "    </tr>\n",
       "    <tr>\n",
       "      <th>3</th>\n",
       "      <td>20-Aug-13</td>\n",
       "      <td>73.23</td>\n",
       "      <td>73.55</td>\n",
       "      <td>73.62</td>\n",
       "      <td>73.20</td>\n",
       "      <td>6.66</td>\n",
       "      <td>-0.48%</td>\n",
       "    </tr>\n",
       "    <tr>\n",
       "      <th>4</th>\n",
       "      <td>21-Aug-13</td>\n",
       "      <td>73.55</td>\n",
       "      <td>73.16</td>\n",
       "      <td>74.13</td>\n",
       "      <td>72.93</td>\n",
       "      <td>8.08</td>\n",
       "      <td>0.44%</td>\n",
       "    </tr>\n",
       "    <tr>\n",
       "      <th>...</th>\n",
       "      <td>...</td>\n",
       "      <td>...</td>\n",
       "      <td>...</td>\n",
       "      <td>...</td>\n",
       "      <td>...</td>\n",
       "      <td>...</td>\n",
       "      <td>...</td>\n",
       "    </tr>\n",
       "    <tr>\n",
       "      <th>2261</th>\n",
       "      <td>09-Aug-22</td>\n",
       "      <td>128.87</td>\n",
       "      <td>127.89</td>\n",
       "      <td>128.97</td>\n",
       "      <td>127.21</td>\n",
       "      <td>6.44</td>\n",
       "      <td>0.99%</td>\n",
       "    </tr>\n",
       "    <tr>\n",
       "      <th>2262</th>\n",
       "      <td>10-Aug-22</td>\n",
       "      <td>129.14</td>\n",
       "      <td>130.00</td>\n",
       "      <td>130.15</td>\n",
       "      <td>128.39</td>\n",
       "      <td>8.36</td>\n",
       "      <td>0.21%</td>\n",
       "    </tr>\n",
       "    <tr>\n",
       "      <th>2263</th>\n",
       "      <td>11-Aug-22</td>\n",
       "      <td>129.82</td>\n",
       "      <td>129.70</td>\n",
       "      <td>130.37</td>\n",
       "      <td>128.60</td>\n",
       "      <td>7.91</td>\n",
       "      <td>0.53%</td>\n",
       "    </tr>\n",
       "    <tr>\n",
       "      <th>2264</th>\n",
       "      <td>12-Aug-22</td>\n",
       "      <td>132.22</td>\n",
       "      <td>130.20</td>\n",
       "      <td>132.82</td>\n",
       "      <td>129.85</td>\n",
       "      <td>8.73</td>\n",
       "      <td>1.85%</td>\n",
       "    </tr>\n",
       "    <tr>\n",
       "      <th>2265</th>\n",
       "      <td>15-Aug-22</td>\n",
       "      <td>132.60</td>\n",
       "      <td>131.83</td>\n",
       "      <td>133.57</td>\n",
       "      <td>131.58</td>\n",
       "      <td>8.64</td>\n",
       "      <td>0.29%</td>\n",
       "    </tr>\n",
       "  </tbody>\n",
       "</table>\n",
       "<p>2266 rows × 7 columns</p>\n",
       "</div>"
      ],
      "text/plain": [
       "           Date   Price    Open    High     Low   Vol. Change %\n",
       "0     15-Aug-13   74.41   74.46   75.08   74.03  13.22   -2.60%\n",
       "1     16-Aug-13   74.11   74.12   74.50   73.70   7.25   -0.40%\n",
       "2     19-Aug-13   73.58   73.88   73.93   73.21   5.36   -0.72%\n",
       "3     20-Aug-13   73.23   73.55   73.62   73.20   6.66   -0.48%\n",
       "4     21-Aug-13   73.55   73.16   74.13   72.93   8.08    0.44%\n",
       "...         ...     ...     ...     ...     ...    ...      ...\n",
       "2261  09-Aug-22  128.87  127.89  128.97  127.21   6.44    0.99%\n",
       "2262  10-Aug-22  129.14  130.00  130.15  128.39   8.36    0.21%\n",
       "2263  11-Aug-22  129.82  129.70  130.37  128.60   7.91    0.53%\n",
       "2264  12-Aug-22  132.22  130.20  132.82  129.85   8.73    1.85%\n",
       "2265  15-Aug-22  132.60  131.83  133.57  131.58   8.64    0.29%\n",
       "\n",
       "[2266 rows x 7 columns]"
      ]
     },
     "execution_count": 43,
     "metadata": {},
     "output_type": "execute_result"
    }
   ],
   "source": [
    "df"
   ]
  },
  {
   "cell_type": "code",
   "execution_count": 44,
   "id": "5a5850c0",
   "metadata": {},
   "outputs": [
    {
     "name": "stdout",
     "output_type": "stream",
     "text": [
      "<class 'pandas.core.frame.DataFrame'>\n",
      "RangeIndex: 2266 entries, 0 to 2265\n",
      "Data columns (total 7 columns):\n",
      " #   Column    Non-Null Count  Dtype  \n",
      "---  ------    --------------  -----  \n",
      " 0   Date      2266 non-null   object \n",
      " 1   Price     2266 non-null   float64\n",
      " 2   Open      2266 non-null   float64\n",
      " 3   High      2266 non-null   float64\n",
      " 4   Low       2266 non-null   float64\n",
      " 5   Vol.      2266 non-null   float64\n",
      " 6   Change %  2266 non-null   object \n",
      "dtypes: float64(5), object(2)\n",
      "memory usage: 124.0+ KB\n"
     ]
    }
   ],
   "source": [
    "df.info()"
   ]
  },
  {
   "cell_type": "code",
   "execution_count": 46,
   "id": "78d6c6a6",
   "metadata": {},
   "outputs": [],
   "source": [
    "df['Capitalization'] = df['Price'] * df['Vol.'] * 1000000"
   ]
  },
  {
   "cell_type": "code",
   "execution_count": 47,
   "id": "23ad6c2b",
   "metadata": {},
   "outputs": [
    {
     "data": {
      "text/html": [
       "<div>\n",
       "<style scoped>\n",
       "    .dataframe tbody tr th:only-of-type {\n",
       "        vertical-align: middle;\n",
       "    }\n",
       "\n",
       "    .dataframe tbody tr th {\n",
       "        vertical-align: top;\n",
       "    }\n",
       "\n",
       "    .dataframe thead th {\n",
       "        text-align: right;\n",
       "    }\n",
       "</style>\n",
       "<table border=\"1\" class=\"dataframe\">\n",
       "  <thead>\n",
       "    <tr style=\"text-align: right;\">\n",
       "      <th></th>\n",
       "      <th>Date</th>\n",
       "      <th>Price</th>\n",
       "      <th>Open</th>\n",
       "      <th>High</th>\n",
       "      <th>Low</th>\n",
       "      <th>Vol.</th>\n",
       "      <th>Change %</th>\n",
       "      <th>Capitalization</th>\n",
       "    </tr>\n",
       "  </thead>\n",
       "  <tbody>\n",
       "    <tr>\n",
       "      <th>0</th>\n",
       "      <td>15-Aug-13</td>\n",
       "      <td>74.41</td>\n",
       "      <td>74.46</td>\n",
       "      <td>75.08</td>\n",
       "      <td>74.03</td>\n",
       "      <td>13.22</td>\n",
       "      <td>-2.60%</td>\n",
       "      <td>9.837002e+08</td>\n",
       "    </tr>\n",
       "    <tr>\n",
       "      <th>1</th>\n",
       "      <td>16-Aug-13</td>\n",
       "      <td>74.11</td>\n",
       "      <td>74.12</td>\n",
       "      <td>74.50</td>\n",
       "      <td>73.70</td>\n",
       "      <td>7.25</td>\n",
       "      <td>-0.40%</td>\n",
       "      <td>5.372975e+08</td>\n",
       "    </tr>\n",
       "    <tr>\n",
       "      <th>2</th>\n",
       "      <td>19-Aug-13</td>\n",
       "      <td>73.58</td>\n",
       "      <td>73.88</td>\n",
       "      <td>73.93</td>\n",
       "      <td>73.21</td>\n",
       "      <td>5.36</td>\n",
       "      <td>-0.72%</td>\n",
       "      <td>3.943888e+08</td>\n",
       "    </tr>\n",
       "    <tr>\n",
       "      <th>3</th>\n",
       "      <td>20-Aug-13</td>\n",
       "      <td>73.23</td>\n",
       "      <td>73.55</td>\n",
       "      <td>73.62</td>\n",
       "      <td>73.20</td>\n",
       "      <td>6.66</td>\n",
       "      <td>-0.48%</td>\n",
       "      <td>4.877118e+08</td>\n",
       "    </tr>\n",
       "    <tr>\n",
       "      <th>4</th>\n",
       "      <td>21-Aug-13</td>\n",
       "      <td>73.55</td>\n",
       "      <td>73.16</td>\n",
       "      <td>74.13</td>\n",
       "      <td>72.93</td>\n",
       "      <td>8.08</td>\n",
       "      <td>0.44%</td>\n",
       "      <td>5.942840e+08</td>\n",
       "    </tr>\n",
       "    <tr>\n",
       "      <th>...</th>\n",
       "      <td>...</td>\n",
       "      <td>...</td>\n",
       "      <td>...</td>\n",
       "      <td>...</td>\n",
       "      <td>...</td>\n",
       "      <td>...</td>\n",
       "      <td>...</td>\n",
       "      <td>...</td>\n",
       "    </tr>\n",
       "    <tr>\n",
       "      <th>2261</th>\n",
       "      <td>09-Aug-22</td>\n",
       "      <td>128.87</td>\n",
       "      <td>127.89</td>\n",
       "      <td>128.97</td>\n",
       "      <td>127.21</td>\n",
       "      <td>6.44</td>\n",
       "      <td>0.99%</td>\n",
       "      <td>8.299228e+08</td>\n",
       "    </tr>\n",
       "    <tr>\n",
       "      <th>2262</th>\n",
       "      <td>10-Aug-22</td>\n",
       "      <td>129.14</td>\n",
       "      <td>130.00</td>\n",
       "      <td>130.15</td>\n",
       "      <td>128.39</td>\n",
       "      <td>8.36</td>\n",
       "      <td>0.21%</td>\n",
       "      <td>1.079610e+09</td>\n",
       "    </tr>\n",
       "    <tr>\n",
       "      <th>2263</th>\n",
       "      <td>11-Aug-22</td>\n",
       "      <td>129.82</td>\n",
       "      <td>129.70</td>\n",
       "      <td>130.37</td>\n",
       "      <td>128.60</td>\n",
       "      <td>7.91</td>\n",
       "      <td>0.53%</td>\n",
       "      <td>1.026876e+09</td>\n",
       "    </tr>\n",
       "    <tr>\n",
       "      <th>2264</th>\n",
       "      <td>12-Aug-22</td>\n",
       "      <td>132.22</td>\n",
       "      <td>130.20</td>\n",
       "      <td>132.82</td>\n",
       "      <td>129.85</td>\n",
       "      <td>8.73</td>\n",
       "      <td>1.85%</td>\n",
       "      <td>1.154281e+09</td>\n",
       "    </tr>\n",
       "    <tr>\n",
       "      <th>2265</th>\n",
       "      <td>15-Aug-22</td>\n",
       "      <td>132.60</td>\n",
       "      <td>131.83</td>\n",
       "      <td>133.57</td>\n",
       "      <td>131.58</td>\n",
       "      <td>8.64</td>\n",
       "      <td>0.29%</td>\n",
       "      <td>1.145664e+09</td>\n",
       "    </tr>\n",
       "  </tbody>\n",
       "</table>\n",
       "<p>2266 rows × 8 columns</p>\n",
       "</div>"
      ],
      "text/plain": [
       "           Date   Price    Open    High     Low   Vol. Change %  \\\n",
       "0     15-Aug-13   74.41   74.46   75.08   74.03  13.22   -2.60%   \n",
       "1     16-Aug-13   74.11   74.12   74.50   73.70   7.25   -0.40%   \n",
       "2     19-Aug-13   73.58   73.88   73.93   73.21   5.36   -0.72%   \n",
       "3     20-Aug-13   73.23   73.55   73.62   73.20   6.66   -0.48%   \n",
       "4     21-Aug-13   73.55   73.16   74.13   72.93   8.08    0.44%   \n",
       "...         ...     ...     ...     ...     ...    ...      ...   \n",
       "2261  09-Aug-22  128.87  127.89  128.97  127.21   6.44    0.99%   \n",
       "2262  10-Aug-22  129.14  130.00  130.15  128.39   8.36    0.21%   \n",
       "2263  11-Aug-22  129.82  129.70  130.37  128.60   7.91    0.53%   \n",
       "2264  12-Aug-22  132.22  130.20  132.82  129.85   8.73    1.85%   \n",
       "2265  15-Aug-22  132.60  131.83  133.57  131.58   8.64    0.29%   \n",
       "\n",
       "      Capitalization  \n",
       "0       9.837002e+08  \n",
       "1       5.372975e+08  \n",
       "2       3.943888e+08  \n",
       "3       4.877118e+08  \n",
       "4       5.942840e+08  \n",
       "...              ...  \n",
       "2261    8.299228e+08  \n",
       "2262    1.079610e+09  \n",
       "2263    1.026876e+09  \n",
       "2264    1.154281e+09  \n",
       "2265    1.145664e+09  \n",
       "\n",
       "[2266 rows x 8 columns]"
      ]
     },
     "execution_count": 47,
     "metadata": {},
     "output_type": "execute_result"
    }
   ],
   "source": [
    "df"
   ]
  },
  {
   "cell_type": "code",
   "execution_count": 62,
   "id": "b4c6d266",
   "metadata": {},
   "outputs": [
    {
     "data": {
      "image/png": "[encoded data removed]",
      "text/plain": [
       "<Figure size 432x288 with 1 Axes>"
      ]
     },
     "metadata": {
      "needs_background": "light"
     },
     "output_type": "display_data"
    }
   ],
   "source": [
    "plt.plot(x, df['Capitalization'], label='Capitalization')\n",
    "plt.plot(x, capitalization, label='capitalization')\n",
    "plt.legend()\n",
    "plt.show()"
   ]
  },
  {
   "cell_type": "code",
   "execution_count": 53,
   "id": "739893c9",
   "metadata": {},
   "outputs": [
    {
     "data": {
      "text/plain": [
       "['8.64', '']"
      ]
     },
     "execution_count": 53,
     "metadata": {},
     "output_type": "execute_result"
    }
   ],
   "source": []
  },
  {
   "cell_type": "code",
   "execution_count": null,
   "id": "8519d8c6",
   "metadata": {},
   "outputs": [],
   "source": []
  }
 ],
 "metadata": {
  "kernelspec": {
   "display_name": "Python 3",
   "language": "python",
   "name": "python3"
  },
  "language_info": {
   "codemirror_mode": {
    "name": "ipython",
    "version": 3
   },
   "file_extension": ".py",
   "mimetype": "text/x-python",
   "name": "python",
   "nbconvert_exporter": "python",
   "pygments_lexer": "ipython3",
   "version": "3.8.8"
  },
  "vscode": {
   "interpreter": {
    "hash": "302aae6d2a8b5c384b7d615ddda57bb5f7de9397deec623a54af3fdcbdebd55f"
   }
  }
 },
 "nbformat": 4,
 "nbformat_minor": 5
}
